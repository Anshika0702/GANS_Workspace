{
  "nbformat": 4,
  "nbformat_minor": 0,
  "metadata": {
    "colab": {
      "name": "GAN using fashion_mnist.ipynb",
      "provenance": [],
      "authorship_tag": "ABX9TyMO5WrW9HuAXsScYyOm1fzP",
      "include_colab_link": true
    },
    "kernelspec": {
      "name": "python3",
      "display_name": "Python 3"
    }
  },
  "cells": [
    {
      "cell_type": "markdown",
      "metadata": {
        "id": "view-in-github",
        "colab_type": "text"
      },
      "source": [
        "<a href=\"https://colab.research.google.com/github/Anshika0702/GANS_Workspace/blob/master/GAN_using_fashion_mnist.ipynb\" target=\"_parent\"><img src=\"https://colab.research.google.com/assets/colab-badge.svg\" alt=\"Open In Colab\"/></a>"
      ]
    },
    {
      "cell_type": "code",
      "metadata": {
        "id": "NDvlUxDbHLCV",
        "colab_type": "code",
        "colab": {
          "base_uri": "https://localhost:8080/",
          "height": 119
        },
        "outputId": "74ab800f-308f-489f-8c13-41b165a08988"
      },
      "source": [
        "# Install TensorFlow\n",
        "# !pip install -q tensorflow-gpu==2.0.0-rc0\n",
        "\n",
        "try:\n",
        "  %tensorflow_version 2.x  # Colab only.\n",
        "except Exception:\n",
        "  pass\n",
        "\n",
        "import tensorflow as tf\n",
        "print(tf.__version__)"
      ],
      "execution_count": 2,
      "outputs": [
        {
          "output_type": "stream",
          "text": [
            "`%tensorflow_version` only switches the major version: 1.x or 2.x.\n",
            "You set: `2.x  # Colab only.`. This will be interpreted as: `2.x`.\n",
            "\n",
            "\n",
            "TensorFlow 2.x selected.\n",
            "2.2.0\n"
          ],
          "name": "stdout"
        }
      ]
    },
    {
      "cell_type": "code",
      "metadata": {
        "id": "qZlWuGcxN8FV",
        "colab_type": "code",
        "colab": {}
      },
      "source": [
        "from tensorflow.keras.layers import Input, Dense, LeakyReLU, Dropout, \\\n",
        "  BatchNormalization\n",
        "from tensorflow.keras.models import Model\n",
        "from tensorflow.keras.optimizers import SGD, Adam\n",
        "\n",
        "import numpy as np\n",
        "import pandas as pd\n",
        "import matplotlib.pyplot as plt\n",
        "import sys, os"
      ],
      "execution_count": 0,
      "outputs": []
    },
    {
      "cell_type": "code",
      "metadata": {
        "id": "OwXZE4xvNlPm",
        "colab_type": "code",
        "colab": {
          "base_uri": "https://localhost:8080/",
          "height": 34
        },
        "outputId": "47bae4ad-bd0e-48a8-ae37-5f158ac9cb5e"
      },
      "source": [
        "from keras.datasets import fashion_mnist"
      ],
      "execution_count": 7,
      "outputs": [
        {
          "output_type": "stream",
          "text": [
            "Using TensorFlow backend.\n"
          ],
          "name": "stderr"
        }
      ]
    },
    {
      "cell_type": "code",
      "metadata": {
        "id": "I99qkKXGNlty",
        "colab_type": "code",
        "colab": {
          "base_uri": "https://localhost:8080/",
          "height": 170
        },
        "outputId": "8524d6c9-df26-49fd-bc72-2abdb56198f5"
      },
      "source": [
        "# Load in the data\n",
        "mnist = tf.keras.datasets.mnist\n",
        "\n",
        "(x_train, y_train), (x_test, y_test) = fashion_mnist.load_data()\n",
        "# (x_train, y_train), (x_test, y_test) = mnist.load_data()\n",
        "# ((trainX, trainY), (testX, testY)) = fashion_mnist.load_data()\n",
        "# map inputs to (-1, +1) for better training\n",
        "x_train, x_test = x_train / 255.0 * 2 - 1, x_test / 255.0 * 2 - 1\n",
        "print(\"x_train.shape:\", x_train.shape)"
      ],
      "execution_count": 8,
      "outputs": [
        {
          "output_type": "stream",
          "text": [
            "Downloading data from http://fashion-mnist.s3-website.eu-central-1.amazonaws.com/train-labels-idx1-ubyte.gz\n",
            "32768/29515 [=================================] - 0s 3us/step\n",
            "Downloading data from http://fashion-mnist.s3-website.eu-central-1.amazonaws.com/train-images-idx3-ubyte.gz\n",
            "26427392/26421880 [==============================] - 2s 0us/step\n",
            "Downloading data from http://fashion-mnist.s3-website.eu-central-1.amazonaws.com/t10k-labels-idx1-ubyte.gz\n",
            "8192/5148 [===============================================] - 0s 0us/step\n",
            "Downloading data from http://fashion-mnist.s3-website.eu-central-1.amazonaws.com/t10k-images-idx3-ubyte.gz\n",
            "4423680/4422102 [==============================] - 1s 0us/step\n",
            "x_train.shape: (60000, 28, 28)\n"
          ],
          "name": "stdout"
        }
      ]
    },
    {
      "cell_type": "code",
      "metadata": {
        "id": "hSVtv245NmVf",
        "colab_type": "code",
        "colab": {}
      },
      "source": [
        "# Flatten the data\n",
        "N, H, W = x_train.shape\n",
        "D = H * W\n",
        "x_train = x_train.reshape(-1, D)\n",
        "x_test = x_test.reshape(-1, D)"
      ],
      "execution_count": 0,
      "outputs": []
    },
    {
      "cell_type": "code",
      "metadata": {
        "id": "g0H0fG7wNmvJ",
        "colab_type": "code",
        "colab": {
          "base_uri": "https://localhost:8080/",
          "height": 34
        },
        "outputId": "2aa6b9bb-fc8e-4743-baa8-13636ab37b33"
      },
      "source": [
        "x_train.shape"
      ],
      "execution_count": 10,
      "outputs": [
        {
          "output_type": "execute_result",
          "data": {
            "text/plain": [
              "(60000, 784)"
            ]
          },
          "metadata": {
            "tags": []
          },
          "execution_count": 10
        }
      ]
    },
    {
      "cell_type": "code",
      "metadata": {
        "id": "_16PPfNeO5uy",
        "colab_type": "code",
        "colab": {}
      },
      "source": [
        "# Dimensionality of the latent space\n",
        "latent_dim = 100"
      ],
      "execution_count": 0,
      "outputs": []
    },
    {
      "cell_type": "code",
      "metadata": {
        "id": "VFxrYbDlO6U6",
        "colab_type": "code",
        "colab": {}
      },
      "source": [
        "# Get the generator model\n",
        "def build_generator(latent_dim):\n",
        "  i = Input(shape=(latent_dim,))\n",
        "  x = Dense(256, activation=LeakyReLU(alpha=0.2))(i)\n",
        "  x = BatchNormalization(momentum=0.7)(x)\n",
        "  x = Dense(512, activation=LeakyReLU(alpha=0.2))(x)\n",
        "  x = BatchNormalization(momentum=0.7)(x)\n",
        "  x = Dense(1024, activation=LeakyReLU(alpha=0.2))(x)\n",
        "  x = BatchNormalization(momentum=0.7)(x)\n",
        "  x = Dense(D, activation='tanh')(x)\n",
        "\n",
        "  model = Model(i, x)\n",
        "  return model"
      ],
      "execution_count": 0,
      "outputs": []
    },
    {
      "cell_type": "code",
      "metadata": {
        "id": "If2_21toO63U",
        "colab_type": "code",
        "colab": {}
      },
      "source": [
        "# Get the discriminator model\n",
        "def build_discriminator(img_size):\n",
        "  i = Input(shape=(img_size,))\n",
        "  x = Dense(512, activation=LeakyReLU(alpha=0.2))(i)\n",
        "  x = Dense(256, activation=LeakyReLU(alpha=0.2))(x)\n",
        "  x = Dense(1, activation='sigmoid')(x)\n",
        "  model = Model(i, x)\n",
        "  return model"
      ],
      "execution_count": 0,
      "outputs": []
    },
    {
      "cell_type": "markdown",
      "metadata": {
        "id": "fieFJ43bPa5P",
        "colab_type": "text"
      },
      "source": [
        "***Compile both models in preparation for training***\n"
      ]
    },
    {
      "cell_type": "code",
      "metadata": {
        "id": "uZYquzGlO8FU",
        "colab_type": "code",
        "colab": {}
      },
      "source": [
        "# Build and compile the discriminator\n",
        "discriminator = build_discriminator(D)\n",
        "discriminator.compile(\n",
        "    loss='binary_crossentropy',\n",
        "    optimizer=Adam(0.0002, 0.5),\n",
        "    metrics=['accuracy'])\n",
        "\n",
        "# Build and compile the combined model\n",
        "generator = build_generator(latent_dim)\n",
        "\n",
        "# Create an input to represent noise sample from latent space\n",
        "z = Input(shape=(latent_dim,))\n",
        "\n",
        "# Pass noise through generator to get an image\n",
        "img = generator(z)\n",
        "\n",
        "# Make sure only the generator is trained\n",
        "discriminator.trainable = False\n",
        "\n",
        "# The true output is fake, but we label them real!\n",
        "fake_pred = discriminator(img)\n",
        "\n",
        "# Create the combined model object\n",
        "combined_model = Model(z, fake_pred)\n",
        "# Compile the combined model\n",
        "combined_model.compile(loss='binary_crossentropy', optimizer=Adam(0.0002, 0.5))"
      ],
      "execution_count": 0,
      "outputs": []
    },
    {
      "cell_type": "markdown",
      "metadata": {
        "id": "gH_Rt92ZP_kC",
        "colab_type": "text"
      },
      "source": [
        "***TRAIN THE GAN***"
      ]
    },
    {
      "cell_type": "code",
      "metadata": {
        "id": "-TeeAiCrO9EF",
        "colab_type": "code",
        "colab": {}
      },
      "source": [
        "# Config\n",
        "batch_size = 32\n",
        "epochs = 30000\n",
        "sample_period = 200 # every `sample_period` steps generate and save some data\n",
        "\n",
        "\n",
        "# Create batch labels to use when calling train_on_batch\n",
        "ones = np.ones(batch_size)\n",
        "zeros = np.zeros(batch_size)\n",
        "\n",
        "# Store the losses\n",
        "d_losses = []\n",
        "g_losses = []\n",
        "\n",
        "# Create a folder to store generated images\n",
        "if not os.path.exists('gan_images'):\n",
        "  os.makedirs('gan_images')"
      ],
      "execution_count": 0,
      "outputs": []
    },
    {
      "cell_type": "code",
      "metadata": {
        "id": "u6S2e3hTO9ly",
        "colab_type": "code",
        "colab": {}
      },
      "source": [
        "# A function to generate a grid of random samples from the generator\n",
        "# and save them to a file\n",
        "def sample_images(epoch):\n",
        "  rows, cols = 5, 5\n",
        "  noise = np.random.randn(rows * cols, latent_dim)\n",
        "  imgs = generator.predict(noise)\n",
        "\n",
        "  # Rescale images 0 - 1\n",
        "  imgs = 0.5 * imgs + 0.5\n",
        "\n",
        "  fig, axs = plt.subplots(rows, cols)\n",
        "  idx = 0\n",
        "  for i in range(rows):\n",
        "    for j in range(cols):\n",
        "      axs[i,j].imshow(imgs[idx].reshape(H, W), cmap='gray')\n",
        "      axs[i,j].axis('off')\n",
        "      idx += 1\n",
        "  fig.savefig(\"gan_images/%d.png\" % epoch)\n",
        "  plt.close()"
      ],
      "execution_count": 0,
      "outputs": []
    },
    {
      "cell_type": "code",
      "metadata": {
        "id": "pEc_ODCAO-EY",
        "colab_type": "code",
        "colab": {
          "base_uri": "https://localhost:8080/",
          "height": 1000
        },
        "outputId": "8982435a-2528-4096-9a3e-b808458832c7"
      },
      "source": [
        "# Main training loop\n",
        "\n",
        "for epoch in range(epochs):\n",
        "  ###########################\n",
        "  ### Train discriminator ###\n",
        "  ###########################\n",
        "  \n",
        "  # Select a random batch of images\n",
        "  idx = np.random.randint(0, x_train.shape[0], batch_size)\n",
        "  real_imgs = x_train[idx]\n",
        "  \n",
        "  # Generate fake images\n",
        "  noise = np.random.randn(batch_size, latent_dim)\n",
        "  fake_imgs = generator.predict(noise)\n",
        "  \n",
        "  # Train the discriminator\n",
        "  # both loss and accuracy are returned\n",
        "  d_loss_real, d_acc_real = discriminator.train_on_batch(real_imgs, ones)\n",
        "  d_loss_fake, d_acc_fake = discriminator.train_on_batch(fake_imgs, zeros)\n",
        "  d_loss = 0.5 * (d_loss_real + d_loss_fake)\n",
        "  d_acc  = 0.5 * (d_acc_real + d_acc_fake)\n",
        "  \n",
        "  \n",
        "  #######################\n",
        "  ### Train generator ###\n",
        "  #######################\n",
        "  \n",
        "  noise = np.random.randn(batch_size, latent_dim)\n",
        "  g_loss = combined_model.train_on_batch(noise, ones)\n",
        "  \n",
        "  # do it again!\n",
        "  noise = np.random.randn(batch_size, latent_dim)\n",
        "  g_loss = combined_model.train_on_batch(noise, ones)\n",
        "  \n",
        "  # Save the losses\n",
        "  d_losses.append(d_loss)\n",
        "  g_losses.append(g_loss)\n",
        "  \n",
        "  if epoch % 100 == 0:\n",
        "    print(f\"epoch: {epoch+1}/{epochs}, d_loss: {d_loss:.2f}, \\\n",
        "      d_acc: {d_acc:.2f}, g_loss: {g_loss:.2f}\")\n",
        "  \n",
        "  if epoch % sample_period == 0:\n",
        "    sample_images(epoch)\n"
      ],
      "execution_count": 19,
      "outputs": [
        {
          "output_type": "stream",
          "text": [
            "epoch: 1/30000, d_loss: 0.41,       d_acc: 0.70, g_loss: 0.65\n",
            "epoch: 101/30000, d_loss: 0.18,       d_acc: 0.94, g_loss: 3.16\n",
            "epoch: 201/30000, d_loss: 0.70,       d_acc: 0.72, g_loss: 1.08\n",
            "epoch: 301/30000, d_loss: 0.71,       d_acc: 0.53, g_loss: 0.71\n",
            "epoch: 401/30000, d_loss: 0.70,       d_acc: 0.56, g_loss: 0.77\n",
            "epoch: 501/30000, d_loss: 0.67,       d_acc: 0.58, g_loss: 0.73\n",
            "epoch: 601/30000, d_loss: 0.68,       d_acc: 0.58, g_loss: 0.73\n",
            "epoch: 701/30000, d_loss: 0.68,       d_acc: 0.56, g_loss: 0.71\n",
            "epoch: 801/30000, d_loss: 0.69,       d_acc: 0.53, g_loss: 0.74\n",
            "epoch: 901/30000, d_loss: 0.66,       d_acc: 0.58, g_loss: 0.71\n",
            "epoch: 1001/30000, d_loss: 0.63,       d_acc: 0.62, g_loss: 0.77\n",
            "epoch: 1101/30000, d_loss: 0.64,       d_acc: 0.69, g_loss: 0.68\n",
            "epoch: 1201/30000, d_loss: 0.69,       d_acc: 0.56, g_loss: 0.76\n",
            "epoch: 1301/30000, d_loss: 0.66,       d_acc: 0.61, g_loss: 0.77\n",
            "epoch: 1401/30000, d_loss: 0.70,       d_acc: 0.61, g_loss: 0.71\n",
            "epoch: 1501/30000, d_loss: 0.68,       d_acc: 0.56, g_loss: 0.76\n",
            "epoch: 1601/30000, d_loss: 0.68,       d_acc: 0.55, g_loss: 0.74\n",
            "epoch: 1701/30000, d_loss: 0.69,       d_acc: 0.52, g_loss: 0.75\n",
            "epoch: 1801/30000, d_loss: 0.70,       d_acc: 0.52, g_loss: 0.75\n",
            "epoch: 1901/30000, d_loss: 0.65,       d_acc: 0.66, g_loss: 0.76\n",
            "epoch: 2001/30000, d_loss: 0.66,       d_acc: 0.67, g_loss: 0.77\n",
            "epoch: 2101/30000, d_loss: 0.70,       d_acc: 0.55, g_loss: 0.75\n",
            "epoch: 2201/30000, d_loss: 0.67,       d_acc: 0.56, g_loss: 0.72\n",
            "epoch: 2301/30000, d_loss: 0.71,       d_acc: 0.61, g_loss: 0.70\n",
            "epoch: 2401/30000, d_loss: 0.70,       d_acc: 0.45, g_loss: 0.78\n",
            "epoch: 2501/30000, d_loss: 0.70,       d_acc: 0.52, g_loss: 0.79\n",
            "epoch: 2601/30000, d_loss: 0.69,       d_acc: 0.59, g_loss: 0.73\n",
            "epoch: 2701/30000, d_loss: 0.67,       d_acc: 0.58, g_loss: 0.77\n",
            "epoch: 2801/30000, d_loss: 0.75,       d_acc: 0.42, g_loss: 0.74\n",
            "epoch: 2901/30000, d_loss: 0.69,       d_acc: 0.59, g_loss: 0.79\n",
            "epoch: 3001/30000, d_loss: 0.68,       d_acc: 0.52, g_loss: 0.76\n",
            "epoch: 3101/30000, d_loss: 0.67,       d_acc: 0.61, g_loss: 0.75\n",
            "epoch: 3201/30000, d_loss: 0.71,       d_acc: 0.48, g_loss: 0.78\n",
            "epoch: 3301/30000, d_loss: 0.73,       d_acc: 0.36, g_loss: 0.76\n",
            "epoch: 3401/30000, d_loss: 0.69,       d_acc: 0.55, g_loss: 0.73\n",
            "epoch: 3501/30000, d_loss: 0.71,       d_acc: 0.42, g_loss: 0.72\n",
            "epoch: 3601/30000, d_loss: 0.64,       d_acc: 0.61, g_loss: 0.73\n",
            "epoch: 3701/30000, d_loss: 0.68,       d_acc: 0.53, g_loss: 0.71\n",
            "epoch: 3801/30000, d_loss: 0.69,       d_acc: 0.53, g_loss: 0.72\n",
            "epoch: 3901/30000, d_loss: 0.73,       d_acc: 0.47, g_loss: 0.73\n",
            "epoch: 4001/30000, d_loss: 0.71,       d_acc: 0.50, g_loss: 0.74\n",
            "epoch: 4101/30000, d_loss: 0.70,       d_acc: 0.45, g_loss: 0.74\n",
            "epoch: 4201/30000, d_loss: 0.71,       d_acc: 0.47, g_loss: 0.77\n",
            "epoch: 4301/30000, d_loss: 0.68,       d_acc: 0.56, g_loss: 0.73\n",
            "epoch: 4401/30000, d_loss: 0.70,       d_acc: 0.48, g_loss: 0.74\n",
            "epoch: 4501/30000, d_loss: 0.67,       d_acc: 0.59, g_loss: 0.74\n",
            "epoch: 4601/30000, d_loss: 0.72,       d_acc: 0.44, g_loss: 0.75\n",
            "epoch: 4701/30000, d_loss: 0.72,       d_acc: 0.36, g_loss: 0.77\n",
            "epoch: 4801/30000, d_loss: 0.70,       d_acc: 0.50, g_loss: 0.73\n",
            "epoch: 4901/30000, d_loss: 0.70,       d_acc: 0.52, g_loss: 0.76\n",
            "epoch: 5001/30000, d_loss: 0.69,       d_acc: 0.52, g_loss: 0.79\n",
            "epoch: 5101/30000, d_loss: 0.70,       d_acc: 0.55, g_loss: 0.76\n",
            "epoch: 5201/30000, d_loss: 0.69,       d_acc: 0.45, g_loss: 0.74\n",
            "epoch: 5301/30000, d_loss: 0.67,       d_acc: 0.64, g_loss: 0.73\n",
            "epoch: 5401/30000, d_loss: 0.69,       d_acc: 0.58, g_loss: 0.73\n",
            "epoch: 5501/30000, d_loss: 0.72,       d_acc: 0.47, g_loss: 0.79\n",
            "epoch: 5601/30000, d_loss: 0.69,       d_acc: 0.48, g_loss: 0.72\n",
            "epoch: 5701/30000, d_loss: 0.69,       d_acc: 0.52, g_loss: 0.76\n",
            "epoch: 5801/30000, d_loss: 0.68,       d_acc: 0.53, g_loss: 0.73\n",
            "epoch: 5901/30000, d_loss: 0.70,       d_acc: 0.48, g_loss: 0.75\n",
            "epoch: 6001/30000, d_loss: 0.68,       d_acc: 0.61, g_loss: 0.75\n",
            "epoch: 6101/30000, d_loss: 0.71,       d_acc: 0.44, g_loss: 0.72\n",
            "epoch: 6201/30000, d_loss: 0.68,       d_acc: 0.61, g_loss: 0.74\n",
            "epoch: 6301/30000, d_loss: 0.71,       d_acc: 0.44, g_loss: 0.77\n",
            "epoch: 6401/30000, d_loss: 0.71,       d_acc: 0.48, g_loss: 0.80\n",
            "epoch: 6501/30000, d_loss: 0.68,       d_acc: 0.59, g_loss: 0.75\n",
            "epoch: 6601/30000, d_loss: 0.70,       d_acc: 0.47, g_loss: 0.75\n",
            "epoch: 6701/30000, d_loss: 0.74,       d_acc: 0.42, g_loss: 0.71\n",
            "epoch: 6801/30000, d_loss: 0.70,       d_acc: 0.52, g_loss: 0.74\n",
            "epoch: 6901/30000, d_loss: 0.71,       d_acc: 0.48, g_loss: 0.77\n",
            "epoch: 7001/30000, d_loss: 0.70,       d_acc: 0.50, g_loss: 0.72\n",
            "epoch: 7101/30000, d_loss: 0.71,       d_acc: 0.53, g_loss: 0.70\n",
            "epoch: 7201/30000, d_loss: 0.69,       d_acc: 0.50, g_loss: 0.75\n",
            "epoch: 7301/30000, d_loss: 0.68,       d_acc: 0.59, g_loss: 0.72\n",
            "epoch: 7401/30000, d_loss: 0.69,       d_acc: 0.52, g_loss: 0.73\n",
            "epoch: 7501/30000, d_loss: 0.71,       d_acc: 0.50, g_loss: 0.78\n",
            "epoch: 7601/30000, d_loss: 0.74,       d_acc: 0.42, g_loss: 0.77\n",
            "epoch: 7701/30000, d_loss: 0.69,       d_acc: 0.61, g_loss: 0.73\n",
            "epoch: 7801/30000, d_loss: 0.70,       d_acc: 0.47, g_loss: 0.73\n",
            "epoch: 7901/30000, d_loss: 0.71,       d_acc: 0.48, g_loss: 0.74\n",
            "epoch: 8001/30000, d_loss: 0.68,       d_acc: 0.59, g_loss: 0.75\n",
            "epoch: 8101/30000, d_loss: 0.71,       d_acc: 0.44, g_loss: 0.74\n",
            "epoch: 8201/30000, d_loss: 0.70,       d_acc: 0.50, g_loss: 0.74\n",
            "epoch: 8301/30000, d_loss: 0.71,       d_acc: 0.52, g_loss: 0.77\n",
            "epoch: 8401/30000, d_loss: 0.68,       d_acc: 0.66, g_loss: 0.77\n",
            "epoch: 8501/30000, d_loss: 0.70,       d_acc: 0.48, g_loss: 0.73\n",
            "epoch: 8601/30000, d_loss: 0.68,       d_acc: 0.61, g_loss: 0.73\n",
            "epoch: 8701/30000, d_loss: 0.69,       d_acc: 0.47, g_loss: 0.72\n",
            "epoch: 8801/30000, d_loss: 0.67,       d_acc: 0.56, g_loss: 0.75\n",
            "epoch: 8901/30000, d_loss: 0.70,       d_acc: 0.55, g_loss: 0.70\n",
            "epoch: 9001/30000, d_loss: 0.66,       d_acc: 0.59, g_loss: 0.73\n",
            "epoch: 9101/30000, d_loss: 0.70,       d_acc: 0.48, g_loss: 0.75\n",
            "epoch: 9201/30000, d_loss: 0.71,       d_acc: 0.48, g_loss: 0.71\n",
            "epoch: 9301/30000, d_loss: 0.69,       d_acc: 0.52, g_loss: 0.72\n",
            "epoch: 9401/30000, d_loss: 0.74,       d_acc: 0.39, g_loss: 0.71\n",
            "epoch: 9501/30000, d_loss: 0.69,       d_acc: 0.48, g_loss: 0.76\n",
            "epoch: 9601/30000, d_loss: 0.68,       d_acc: 0.55, g_loss: 0.76\n",
            "epoch: 9701/30000, d_loss: 0.67,       d_acc: 0.58, g_loss: 0.75\n",
            "epoch: 9801/30000, d_loss: 0.71,       d_acc: 0.50, g_loss: 0.76\n",
            "epoch: 9901/30000, d_loss: 0.69,       d_acc: 0.59, g_loss: 0.76\n",
            "epoch: 10001/30000, d_loss: 0.69,       d_acc: 0.56, g_loss: 0.72\n",
            "epoch: 10101/30000, d_loss: 0.71,       d_acc: 0.44, g_loss: 0.73\n",
            "epoch: 10201/30000, d_loss: 0.69,       d_acc: 0.55, g_loss: 0.75\n",
            "epoch: 10301/30000, d_loss: 0.69,       d_acc: 0.55, g_loss: 0.72\n",
            "epoch: 10401/30000, d_loss: 0.72,       d_acc: 0.41, g_loss: 0.75\n",
            "epoch: 10501/30000, d_loss: 0.71,       d_acc: 0.53, g_loss: 0.69\n",
            "epoch: 10601/30000, d_loss: 0.71,       d_acc: 0.48, g_loss: 0.73\n",
            "epoch: 10701/30000, d_loss: 0.70,       d_acc: 0.44, g_loss: 0.75\n",
            "epoch: 10801/30000, d_loss: 0.69,       d_acc: 0.53, g_loss: 0.74\n",
            "epoch: 10901/30000, d_loss: 0.69,       d_acc: 0.50, g_loss: 0.74\n",
            "epoch: 11001/30000, d_loss: 0.68,       d_acc: 0.50, g_loss: 0.75\n",
            "epoch: 11101/30000, d_loss: 0.72,       d_acc: 0.50, g_loss: 0.69\n",
            "epoch: 11201/30000, d_loss: 0.68,       d_acc: 0.53, g_loss: 0.73\n",
            "epoch: 11301/30000, d_loss: 0.74,       d_acc: 0.42, g_loss: 0.75\n",
            "epoch: 11401/30000, d_loss: 0.73,       d_acc: 0.48, g_loss: 0.78\n",
            "epoch: 11501/30000, d_loss: 0.69,       d_acc: 0.55, g_loss: 0.72\n",
            "epoch: 11601/30000, d_loss: 0.70,       d_acc: 0.50, g_loss: 0.76\n",
            "epoch: 11701/30000, d_loss: 0.69,       d_acc: 0.53, g_loss: 0.78\n",
            "epoch: 11801/30000, d_loss: 0.73,       d_acc: 0.48, g_loss: 0.73\n",
            "epoch: 11901/30000, d_loss: 0.71,       d_acc: 0.47, g_loss: 0.74\n",
            "epoch: 12001/30000, d_loss: 0.69,       d_acc: 0.47, g_loss: 0.74\n",
            "epoch: 12101/30000, d_loss: 0.68,       d_acc: 0.59, g_loss: 0.75\n",
            "epoch: 12201/30000, d_loss: 0.67,       d_acc: 0.55, g_loss: 0.75\n",
            "epoch: 12301/30000, d_loss: 0.69,       d_acc: 0.55, g_loss: 0.75\n",
            "epoch: 12401/30000, d_loss: 0.72,       d_acc: 0.42, g_loss: 0.71\n",
            "epoch: 12501/30000, d_loss: 0.69,       d_acc: 0.53, g_loss: 0.74\n",
            "epoch: 12601/30000, d_loss: 0.68,       d_acc: 0.62, g_loss: 0.70\n",
            "epoch: 12701/30000, d_loss: 0.69,       d_acc: 0.45, g_loss: 0.70\n",
            "epoch: 12801/30000, d_loss: 0.70,       d_acc: 0.45, g_loss: 0.73\n",
            "epoch: 12901/30000, d_loss: 0.71,       d_acc: 0.42, g_loss: 0.75\n",
            "epoch: 13001/30000, d_loss: 0.68,       d_acc: 0.61, g_loss: 0.71\n",
            "epoch: 13101/30000, d_loss: 0.70,       d_acc: 0.55, g_loss: 0.72\n",
            "epoch: 13201/30000, d_loss: 0.68,       d_acc: 0.61, g_loss: 0.78\n",
            "epoch: 13301/30000, d_loss: 0.69,       d_acc: 0.52, g_loss: 0.76\n",
            "epoch: 13401/30000, d_loss: 0.69,       d_acc: 0.47, g_loss: 0.75\n",
            "epoch: 13501/30000, d_loss: 0.66,       d_acc: 0.59, g_loss: 0.74\n",
            "epoch: 13601/30000, d_loss: 0.72,       d_acc: 0.58, g_loss: 0.77\n",
            "epoch: 13701/30000, d_loss: 0.69,       d_acc: 0.52, g_loss: 0.74\n",
            "epoch: 13801/30000, d_loss: 0.71,       d_acc: 0.45, g_loss: 0.71\n",
            "epoch: 13901/30000, d_loss: 0.70,       d_acc: 0.50, g_loss: 0.74\n",
            "epoch: 14001/30000, d_loss: 0.70,       d_acc: 0.55, g_loss: 0.73\n",
            "epoch: 14101/30000, d_loss: 0.71,       d_acc: 0.45, g_loss: 0.74\n",
            "epoch: 14201/30000, d_loss: 0.67,       d_acc: 0.58, g_loss: 0.77\n",
            "epoch: 14301/30000, d_loss: 0.68,       d_acc: 0.55, g_loss: 0.72\n",
            "epoch: 14401/30000, d_loss: 0.70,       d_acc: 0.45, g_loss: 0.73\n",
            "epoch: 14501/30000, d_loss: 0.68,       d_acc: 0.55, g_loss: 0.73\n",
            "epoch: 14601/30000, d_loss: 0.68,       d_acc: 0.48, g_loss: 0.76\n",
            "epoch: 14701/30000, d_loss: 0.67,       d_acc: 0.64, g_loss: 0.69\n",
            "epoch: 14801/30000, d_loss: 0.69,       d_acc: 0.55, g_loss: 0.77\n",
            "epoch: 14901/30000, d_loss: 0.71,       d_acc: 0.48, g_loss: 0.77\n",
            "epoch: 15001/30000, d_loss: 0.68,       d_acc: 0.52, g_loss: 0.73\n",
            "epoch: 15101/30000, d_loss: 0.68,       d_acc: 0.66, g_loss: 0.73\n",
            "epoch: 15201/30000, d_loss: 0.69,       d_acc: 0.56, g_loss: 0.71\n",
            "epoch: 15301/30000, d_loss: 0.71,       d_acc: 0.38, g_loss: 0.73\n",
            "epoch: 15401/30000, d_loss: 0.70,       d_acc: 0.52, g_loss: 0.76\n",
            "epoch: 15501/30000, d_loss: 0.70,       d_acc: 0.45, g_loss: 0.73\n",
            "epoch: 15601/30000, d_loss: 0.71,       d_acc: 0.45, g_loss: 0.71\n",
            "epoch: 15701/30000, d_loss: 0.73,       d_acc: 0.36, g_loss: 0.71\n",
            "epoch: 15801/30000, d_loss: 0.70,       d_acc: 0.44, g_loss: 0.74\n",
            "epoch: 15901/30000, d_loss: 0.66,       d_acc: 0.61, g_loss: 0.78\n",
            "epoch: 16001/30000, d_loss: 0.66,       d_acc: 0.66, g_loss: 0.75\n",
            "epoch: 16101/30000, d_loss: 0.67,       d_acc: 0.62, g_loss: 0.76\n",
            "epoch: 16201/30000, d_loss: 0.67,       d_acc: 0.64, g_loss: 0.78\n",
            "epoch: 16301/30000, d_loss: 0.70,       d_acc: 0.47, g_loss: 0.72\n",
            "epoch: 16401/30000, d_loss: 0.67,       d_acc: 0.62, g_loss: 0.73\n",
            "epoch: 16501/30000, d_loss: 0.67,       d_acc: 0.61, g_loss: 0.74\n",
            "epoch: 16601/30000, d_loss: 0.70,       d_acc: 0.52, g_loss: 0.76\n",
            "epoch: 16701/30000, d_loss: 0.72,       d_acc: 0.45, g_loss: 0.72\n",
            "epoch: 16801/30000, d_loss: 0.70,       d_acc: 0.47, g_loss: 0.72\n",
            "epoch: 16901/30000, d_loss: 0.68,       d_acc: 0.56, g_loss: 0.75\n",
            "epoch: 17001/30000, d_loss: 0.71,       d_acc: 0.42, g_loss: 0.73\n",
            "epoch: 17101/30000, d_loss: 0.67,       d_acc: 0.58, g_loss: 0.75\n",
            "epoch: 17201/30000, d_loss: 0.68,       d_acc: 0.58, g_loss: 0.72\n",
            "epoch: 17301/30000, d_loss: 0.70,       d_acc: 0.47, g_loss: 0.71\n",
            "epoch: 17401/30000, d_loss: 0.69,       d_acc: 0.52, g_loss: 0.73\n",
            "epoch: 17501/30000, d_loss: 0.68,       d_acc: 0.56, g_loss: 0.74\n",
            "epoch: 17601/30000, d_loss: 0.68,       d_acc: 0.55, g_loss: 0.72\n",
            "epoch: 17701/30000, d_loss: 0.68,       d_acc: 0.58, g_loss: 0.75\n",
            "epoch: 17801/30000, d_loss: 0.71,       d_acc: 0.47, g_loss: 0.75\n",
            "epoch: 17901/30000, d_loss: 0.68,       d_acc: 0.59, g_loss: 0.79\n",
            "epoch: 18001/30000, d_loss: 0.67,       d_acc: 0.56, g_loss: 0.74\n",
            "epoch: 18101/30000, d_loss: 0.70,       d_acc: 0.56, g_loss: 0.76\n",
            "epoch: 18201/30000, d_loss: 0.68,       d_acc: 0.58, g_loss: 0.74\n",
            "epoch: 18301/30000, d_loss: 0.74,       d_acc: 0.42, g_loss: 0.70\n",
            "epoch: 18401/30000, d_loss: 0.70,       d_acc: 0.48, g_loss: 0.73\n",
            "epoch: 18501/30000, d_loss: 0.69,       d_acc: 0.56, g_loss: 0.74\n",
            "epoch: 18601/30000, d_loss: 0.71,       d_acc: 0.50, g_loss: 0.75\n",
            "epoch: 18701/30000, d_loss: 0.66,       d_acc: 0.56, g_loss: 0.75\n",
            "epoch: 18801/30000, d_loss: 0.69,       d_acc: 0.47, g_loss: 0.74\n",
            "epoch: 18901/30000, d_loss: 0.70,       d_acc: 0.52, g_loss: 0.72\n",
            "epoch: 19001/30000, d_loss: 0.69,       d_acc: 0.48, g_loss: 0.72\n",
            "epoch: 19101/30000, d_loss: 0.66,       d_acc: 0.61, g_loss: 0.78\n",
            "epoch: 19201/30000, d_loss: 0.69,       d_acc: 0.53, g_loss: 0.73\n",
            "epoch: 19301/30000, d_loss: 0.68,       d_acc: 0.62, g_loss: 0.72\n",
            "epoch: 19401/30000, d_loss: 0.67,       d_acc: 0.53, g_loss: 0.72\n",
            "epoch: 19501/30000, d_loss: 0.68,       d_acc: 0.56, g_loss: 0.70\n",
            "epoch: 19601/30000, d_loss: 0.70,       d_acc: 0.53, g_loss: 0.73\n",
            "epoch: 19701/30000, d_loss: 0.67,       d_acc: 0.55, g_loss: 0.69\n",
            "epoch: 19801/30000, d_loss: 0.69,       d_acc: 0.56, g_loss: 0.73\n",
            "epoch: 19901/30000, d_loss: 0.68,       d_acc: 0.58, g_loss: 0.70\n",
            "epoch: 20001/30000, d_loss: 0.70,       d_acc: 0.44, g_loss: 0.74\n",
            "epoch: 20101/30000, d_loss: 0.66,       d_acc: 0.62, g_loss: 0.72\n",
            "epoch: 20201/30000, d_loss: 0.70,       d_acc: 0.48, g_loss: 0.73\n",
            "epoch: 20301/30000, d_loss: 0.71,       d_acc: 0.48, g_loss: 0.75\n",
            "epoch: 20401/30000, d_loss: 0.67,       d_acc: 0.55, g_loss: 0.72\n",
            "epoch: 20501/30000, d_loss: 0.69,       d_acc: 0.55, g_loss: 0.72\n",
            "epoch: 20601/30000, d_loss: 0.69,       d_acc: 0.48, g_loss: 0.78\n",
            "epoch: 20701/30000, d_loss: 0.69,       d_acc: 0.48, g_loss: 0.75\n",
            "epoch: 20801/30000, d_loss: 0.69,       d_acc: 0.45, g_loss: 0.73\n",
            "epoch: 20901/30000, d_loss: 0.70,       d_acc: 0.47, g_loss: 0.74\n",
            "epoch: 21001/30000, d_loss: 0.69,       d_acc: 0.53, g_loss: 0.74\n",
            "epoch: 21101/30000, d_loss: 0.70,       d_acc: 0.50, g_loss: 0.70\n",
            "epoch: 21201/30000, d_loss: 0.67,       d_acc: 0.62, g_loss: 0.74\n",
            "epoch: 21301/30000, d_loss: 0.69,       d_acc: 0.50, g_loss: 0.72\n",
            "epoch: 21401/30000, d_loss: 0.70,       d_acc: 0.47, g_loss: 0.77\n",
            "epoch: 21501/30000, d_loss: 0.70,       d_acc: 0.50, g_loss: 0.75\n",
            "epoch: 21601/30000, d_loss: 0.71,       d_acc: 0.42, g_loss: 0.73\n",
            "epoch: 21701/30000, d_loss: 0.68,       d_acc: 0.67, g_loss: 0.70\n",
            "epoch: 21801/30000, d_loss: 0.71,       d_acc: 0.48, g_loss: 0.74\n",
            "epoch: 21901/30000, d_loss: 0.69,       d_acc: 0.48, g_loss: 0.76\n",
            "epoch: 22001/30000, d_loss: 0.69,       d_acc: 0.58, g_loss: 0.77\n",
            "epoch: 22101/30000, d_loss: 0.72,       d_acc: 0.39, g_loss: 0.74\n",
            "epoch: 22201/30000, d_loss: 0.70,       d_acc: 0.53, g_loss: 0.76\n",
            "epoch: 22301/30000, d_loss: 0.68,       d_acc: 0.56, g_loss: 0.72\n",
            "epoch: 22401/30000, d_loss: 0.71,       d_acc: 0.45, g_loss: 0.74\n",
            "epoch: 22501/30000, d_loss: 0.67,       d_acc: 0.58, g_loss: 0.71\n",
            "epoch: 22601/30000, d_loss: 0.69,       d_acc: 0.45, g_loss: 0.76\n",
            "epoch: 22701/30000, d_loss: 0.71,       d_acc: 0.44, g_loss: 0.73\n",
            "epoch: 22801/30000, d_loss: 0.70,       d_acc: 0.47, g_loss: 0.75\n",
            "epoch: 22901/30000, d_loss: 0.72,       d_acc: 0.50, g_loss: 0.72\n",
            "epoch: 23001/30000, d_loss: 0.72,       d_acc: 0.50, g_loss: 0.71\n",
            "epoch: 23101/30000, d_loss: 0.69,       d_acc: 0.50, g_loss: 0.75\n",
            "epoch: 23201/30000, d_loss: 0.67,       d_acc: 0.55, g_loss: 0.75\n",
            "epoch: 23301/30000, d_loss: 0.67,       d_acc: 0.66, g_loss: 0.72\n",
            "epoch: 23401/30000, d_loss: 0.70,       d_acc: 0.44, g_loss: 0.75\n",
            "epoch: 23501/30000, d_loss: 0.67,       d_acc: 0.62, g_loss: 0.74\n",
            "epoch: 23601/30000, d_loss: 0.68,       d_acc: 0.56, g_loss: 0.75\n",
            "epoch: 23701/30000, d_loss: 0.69,       d_acc: 0.48, g_loss: 0.73\n",
            "epoch: 23801/30000, d_loss: 0.70,       d_acc: 0.48, g_loss: 0.72\n",
            "epoch: 23901/30000, d_loss: 0.69,       d_acc: 0.50, g_loss: 0.74\n",
            "epoch: 24001/30000, d_loss: 0.69,       d_acc: 0.55, g_loss: 0.75\n",
            "epoch: 24101/30000, d_loss: 0.71,       d_acc: 0.41, g_loss: 0.73\n",
            "epoch: 24201/30000, d_loss: 0.70,       d_acc: 0.50, g_loss: 0.74\n",
            "epoch: 24301/30000, d_loss: 0.66,       d_acc: 0.61, g_loss: 0.78\n",
            "epoch: 24401/30000, d_loss: 0.70,       d_acc: 0.48, g_loss: 0.70\n",
            "epoch: 24501/30000, d_loss: 0.70,       d_acc: 0.45, g_loss: 0.72\n",
            "epoch: 24601/30000, d_loss: 0.68,       d_acc: 0.56, g_loss: 0.77\n",
            "epoch: 24701/30000, d_loss: 0.72,       d_acc: 0.45, g_loss: 0.74\n",
            "epoch: 24801/30000, d_loss: 0.68,       d_acc: 0.53, g_loss: 0.74\n",
            "epoch: 24901/30000, d_loss: 0.70,       d_acc: 0.48, g_loss: 0.73\n",
            "epoch: 25001/30000, d_loss: 0.70,       d_acc: 0.59, g_loss: 0.73\n",
            "epoch: 25101/30000, d_loss: 0.68,       d_acc: 0.56, g_loss: 0.77\n",
            "epoch: 25201/30000, d_loss: 0.69,       d_acc: 0.48, g_loss: 0.74\n",
            "epoch: 25301/30000, d_loss: 0.69,       d_acc: 0.58, g_loss: 0.74\n",
            "epoch: 25401/30000, d_loss: 0.71,       d_acc: 0.44, g_loss: 0.75\n",
            "epoch: 25501/30000, d_loss: 0.68,       d_acc: 0.59, g_loss: 0.71\n",
            "epoch: 25601/30000, d_loss: 0.72,       d_acc: 0.48, g_loss: 0.74\n",
            "epoch: 25701/30000, d_loss: 0.68,       d_acc: 0.62, g_loss: 0.74\n",
            "epoch: 25801/30000, d_loss: 0.71,       d_acc: 0.44, g_loss: 0.69\n",
            "epoch: 25901/30000, d_loss: 0.71,       d_acc: 0.53, g_loss: 0.71\n",
            "epoch: 26001/30000, d_loss: 0.67,       d_acc: 0.59, g_loss: 0.76\n",
            "epoch: 26101/30000, d_loss: 0.68,       d_acc: 0.62, g_loss: 0.75\n",
            "epoch: 26201/30000, d_loss: 0.70,       d_acc: 0.50, g_loss: 0.73\n",
            "epoch: 26301/30000, d_loss: 0.68,       d_acc: 0.48, g_loss: 0.73\n",
            "epoch: 26401/30000, d_loss: 0.69,       d_acc: 0.50, g_loss: 0.72\n",
            "epoch: 26501/30000, d_loss: 0.67,       d_acc: 0.56, g_loss: 0.75\n",
            "epoch: 26601/30000, d_loss: 0.69,       d_acc: 0.48, g_loss: 0.76\n",
            "epoch: 26701/30000, d_loss: 0.68,       d_acc: 0.53, g_loss: 0.74\n",
            "epoch: 26801/30000, d_loss: 0.68,       d_acc: 0.52, g_loss: 0.75\n",
            "epoch: 26901/30000, d_loss: 0.72,       d_acc: 0.42, g_loss: 0.73\n",
            "epoch: 27001/30000, d_loss: 0.67,       d_acc: 0.56, g_loss: 0.74\n",
            "epoch: 27101/30000, d_loss: 0.68,       d_acc: 0.52, g_loss: 0.74\n",
            "epoch: 27201/30000, d_loss: 0.64,       d_acc: 0.72, g_loss: 0.79\n",
            "epoch: 27301/30000, d_loss: 0.67,       d_acc: 0.59, g_loss: 0.77\n",
            "epoch: 27401/30000, d_loss: 0.67,       d_acc: 0.59, g_loss: 0.74\n",
            "epoch: 27501/30000, d_loss: 0.69,       d_acc: 0.55, g_loss: 0.76\n",
            "epoch: 27601/30000, d_loss: 0.67,       d_acc: 0.64, g_loss: 0.74\n",
            "epoch: 27701/30000, d_loss: 0.69,       d_acc: 0.56, g_loss: 0.77\n",
            "epoch: 27801/30000, d_loss: 0.67,       d_acc: 0.59, g_loss: 0.73\n",
            "epoch: 27901/30000, d_loss: 0.67,       d_acc: 0.55, g_loss: 0.74\n",
            "epoch: 28001/30000, d_loss: 0.68,       d_acc: 0.56, g_loss: 0.74\n",
            "epoch: 28101/30000, d_loss: 0.68,       d_acc: 0.58, g_loss: 0.77\n",
            "epoch: 28201/30000, d_loss: 0.69,       d_acc: 0.47, g_loss: 0.76\n",
            "epoch: 28301/30000, d_loss: 0.68,       d_acc: 0.50, g_loss: 0.74\n",
            "epoch: 28401/30000, d_loss: 0.67,       d_acc: 0.59, g_loss: 0.76\n",
            "epoch: 28501/30000, d_loss: 0.69,       d_acc: 0.55, g_loss: 0.76\n",
            "epoch: 28601/30000, d_loss: 0.68,       d_acc: 0.56, g_loss: 0.73\n",
            "epoch: 28701/30000, d_loss: 0.69,       d_acc: 0.48, g_loss: 0.77\n",
            "epoch: 28801/30000, d_loss: 0.66,       d_acc: 0.58, g_loss: 0.75\n",
            "epoch: 28901/30000, d_loss: 0.68,       d_acc: 0.55, g_loss: 0.72\n",
            "epoch: 29001/30000, d_loss: 0.70,       d_acc: 0.55, g_loss: 0.77\n",
            "epoch: 29101/30000, d_loss: 0.67,       d_acc: 0.61, g_loss: 0.74\n",
            "epoch: 29201/30000, d_loss: 0.71,       d_acc: 0.50, g_loss: 0.75\n",
            "epoch: 29301/30000, d_loss: 0.68,       d_acc: 0.61, g_loss: 0.71\n",
            "epoch: 29401/30000, d_loss: 0.70,       d_acc: 0.52, g_loss: 0.73\n",
            "epoch: 29501/30000, d_loss: 0.69,       d_acc: 0.53, g_loss: 0.75\n",
            "epoch: 29601/30000, d_loss: 0.69,       d_acc: 0.53, g_loss: 0.74\n",
            "epoch: 29701/30000, d_loss: 0.70,       d_acc: 0.44, g_loss: 0.74\n",
            "epoch: 29801/30000, d_loss: 0.69,       d_acc: 0.62, g_loss: 0.74\n",
            "epoch: 29901/30000, d_loss: 0.68,       d_acc: 0.55, g_loss: 0.73\n"
          ],
          "name": "stdout"
        }
      ]
    },
    {
      "cell_type": "code",
      "metadata": {
        "id": "53IOkjb_O-f2",
        "colab_type": "code",
        "colab": {
          "base_uri": "https://localhost:8080/",
          "height": 282
        },
        "outputId": "753a508f-e07b-40d4-df7b-5d3e01ba0684"
      },
      "source": [
        "plt.plot(g_losses, label='g_losses')\n",
        "plt.plot(d_losses, label='d_losses')\n",
        "plt.legend()"
      ],
      "execution_count": 20,
      "outputs": [
        {
          "output_type": "execute_result",
          "data": {
            "text/plain": [
              "<matplotlib.legend.Legend at 0x7faeacc13ef0>"
            ]
          },
          "metadata": {
            "tags": []
          },
          "execution_count": 20
        },
        {
          "output_type": "display_data",
          "data": {
            "image/png": "[encoded data removed]",
            "text/plain": [
              "<Figure size 432x288 with 1 Axes>"
            ]
          },
          "metadata": {
            "tags": [],
            "needs_background": "light"
          }
        }
      ]
    },
    {
      "cell_type": "code",
      "metadata": {
        "id": "RWs4Hoc3O-96",
        "colab_type": "code",
        "colab": {
          "base_uri": "https://localhost:8080/",
          "height": 286
        },
        "outputId": "bfd36c72-2e96-4413-b1fd-1e7cd01828f0"
      },
      "source": [
        "from skimage.io import imread\n",
        "a = imread('gan_images/1000.png')\n",
        "plt.imshow(a)"
      ],
      "execution_count": 21,
      "outputs": [
        {
          "output_type": "execute_result",
          "data": {
            "text/plain": [
              "<matplotlib.image.AxesImage at 0x7faeac1bc358>"
            ]
          },
          "metadata": {
            "tags": []
          },
          "execution_count": 21
        },
        {
          "output_type": "display_data",
          "data": {
            "image/png": "[encoded data removed]",
            "text/plain": [
              "<Figure size 432x288 with 1 Axes>"
            ]
          },
          "metadata": {
            "tags": [],
            "needs_background": "light"
          }
        }
      ]
    },
    {
      "cell_type": "code",
      "metadata": {
        "id": "SrEi6twxQz3i",
        "colab_type": "code",
        "colab": {
          "base_uri": "https://localhost:8080/",
          "height": 286
        },
        "outputId": "05435d9a-8506-4ee2-aab4-6f637df687c4"
      },
      "source": [
        "a = imread('gan_images/20000.png')\n",
        "plt.imshow(a)"
      ],
      "execution_count": 22,
      "outputs": [
        {
          "output_type": "execute_result",
          "data": {
            "text/plain": [
              "<matplotlib.image.AxesImage at 0x7faeac125048>"
            ]
          },
          "metadata": {
            "tags": []
          },
          "execution_count": 22
        },
        {
          "output_type": "display_data",
          "data": {
            "image/png": "[encoded data removed]",
            "text/plain": [
              "<Figure size 432x288 with 1 Axes>"
            ]
          },
          "metadata": {
            "tags": [],
            "needs_background": "light"
          }
        }
      ]
    },
    {
      "cell_type": "code",
      "metadata": {
        "id": "xX__qteGQ2nw",
        "colab_type": "code",
        "colab": {}
      },
      "source": [
        ""
      ],
      "execution_count": 0,
      "outputs": []
    }
  ]
}